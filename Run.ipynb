{
 "cells": [
  {
   "cell_type": "markdown",
   "id": "61e455dc-5efc-407c-98d5-4b70a678cfb9",
   "metadata": {},
   "source": [
    "# Hyperparameters (that were actively examined)\n",
    "- `lighting_round`: Used for testing purposes. Forces epochs to be 2, decimates the sample size and skips data integrity checks.\n",
    "- `batch_size`: Batch size of training. Set to 128 as per standard.\n",
    "- `epochs`: Number of epochs. Set to 20 due to limted scope.\n",
    "- `private_dense_layers`: If True, the multi-task learner has dense layers that are inside each task, and thus don't interact with other tasks. If False, the dense layers are instead placed in a part of the network that all tasks use.\n",
    "- `reduced_parameters_for_public`: If True, the public dense layers are less wide, resulting in ~1.5m parameters, similarly to what a private-dense-layers model would have. If False, the model will have ~3mln parameters.\n",
    "- `apparel_class`: Which apparel classes to consider.\n",
    "- `tasks`: Which tasks to consider. All of tasks are `['common:apparel_class', 'common:color', 'common:material', 'common:age', 'common:gender']`.\n",
    "- `randomize_missing_labels`: Most images don't have labels for most tasks. If `randomize_missing_labels` is True, they are assigned a random value. If False, they are assigned `-1`."
   ]
  },
  {
   "cell_type": "code",
   "execution_count": 1,
   "id": "ec90c54f-066c-4c5a-a141-42c4bb009924",
   "metadata": {},
   "outputs": [],
   "source": [
    "lighting_round = False\n",
    "\n",
    "batch_size = 128\n",
    "epochs = 20\n",
    "private_dense_layers = False\n",
    "reduced_parameters_for_public = False\n",
    "apparel_class = 'all'\n",
    "tasks = ['common:apparel_class']\n",
    "randomize_missing_labels = False"
   ]
  },
  {
   "cell_type": "code",
   "execution_count": null,
   "id": "754d5cfa-9380-4eae-a63b-2b0c46852e0e",
   "metadata": {},
   "outputs": [],
   "source": [
    "from mfgm_runfunction import run\n",
    "\n",
    "if lighting_round:\n",
    "    epochs = 2\n",
    "    purge_bad_images = False\n",
    "    micro_dataset = True\n",
    "else:\n",
    "    purge_bad_images = True\n",
    "    micro_dataset = False\n",
    "\n",
    "run(batch_size = batch_size,\n",
    "    epochs = epochs,\n",
    "    private_dense_layers = private_dense_layers,\n",
    "    reduced_parameters_for_public = reduced_parameters_for_public,\n",
    "    apparel_class = apparel_class,\n",
    "    tasks = tasks,\n",
    "    randomize_missing_labels = randomize_missing_labels,\n",
    "    purge_bad_images = purge_bad_images,\n",
    "    micro_dataset = micro_dataset\n",
    "    )"
   ]
  }
 ],
 "metadata": {
  "kernelspec": {
   "display_name": "Python 3 (ipykernel)",
   "language": "python",
   "name": "python3"
  },
  "language_info": {
   "codemirror_mode": {
    "name": "ipython",
    "version": 3
   },
   "file_extension": ".py",
   "mimetype": "text/x-python",
   "name": "python",
   "nbconvert_exporter": "python",
   "pygments_lexer": "ipython3",
   "version": "3.10.8"
  }
 },
 "nbformat": 4,
 "nbformat_minor": 5
}
